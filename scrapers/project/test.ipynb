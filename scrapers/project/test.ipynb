{
 "cells": [
  {
   "cell_type": "code",
   "execution_count": 1,
   "metadata": {},
   "outputs": [],
   "source": [
    "from ecom_scrapers.amazon import Amazon\n",
    "from ecom_scrapers.lazada import Lazada\n",
    "from ecom_scrapers.qoo10 import Qoo10\n",
    "from ecom_scrapers.ezbuy import EzBuy\n",
    "from ecom_scrapers.aliexpress import AliExpress"
   ]
  }
 ],
 "metadata": {
  "kernelspec": {
   "display_name": "venv",
   "language": "python",
   "name": "python3"
  },
  "language_info": {
   "codemirror_mode": {
    "name": "ipython",
    "version": 3
   },
   "file_extension": ".py",
   "mimetype": "text/x-python",
   "name": "python",
   "nbconvert_exporter": "python",
   "pygments_lexer": "ipython3",
   "version": "3.10.5"
  }
 },
 "nbformat": 4,
 "nbformat_minor": 2
}
