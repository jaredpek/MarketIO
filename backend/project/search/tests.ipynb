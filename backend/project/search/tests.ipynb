{
 "cells": [
  {
   "cell_type": "code",
   "execution_count": null,
   "metadata": {},
   "outputs": [],
   "source": [
    "import requests"
   ]
  },
  {
   "cell_type": "code",
   "execution_count": null,
   "metadata": {},
   "outputs": [],
   "source": [
    "params = {\n",
    "    'search': 'toys',\n",
    "    # 'sort': 'priceasc',\n",
    "    # 'minPrice': 20,\n",
    "    # 'maxPrice': 80\n",
    "}\n",
    "search_response = requests.get('http://127.0.0.1:8000/api/search/', params=params)\n",
    "search_response"
   ]
  },
  {
   "cell_type": "code",
   "execution_count": null,
   "metadata": {},
   "outputs": [],
   "source": [
    "search_response.json()"
   ]
  }
 ],
 "metadata": {
  "language_info": {
   "name": "python"
  }
 },
 "nbformat": 4,
 "nbformat_minor": 2
}
