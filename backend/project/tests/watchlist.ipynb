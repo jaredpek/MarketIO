{
 "cells": [
  {
   "cell_type": "code",
   "execution_count": 1,
   "metadata": {},
   "outputs": [],
   "source": [
    "import requests"
   ]
  },
  {
   "cell_type": "code",
   "execution_count": 2,
   "metadata": {},
   "outputs": [
    {
     "data": {
      "text/plain": [
       "{'status': 'success',\n",
       " 'data': {'credentials': 'user successfully logged in',\n",
       "  'key': '4476685325e3c28c758bed03a4d6fd9559f1e8f8'}}"
      ]
     },
     "execution_count": 2,
     "metadata": {},
     "output_type": "execute_result"
    }
   ],
   "source": [
    "login_data = {\n",
    "    'username': 'admin',\n",
    "    'password': 'admin',\n",
    "}\n",
    "login_response = requests.post(url='http://127.0.0.1:8000/api/users/auth/login/', json=login_data)\n",
    "login_response.json()"
   ]
  },
  {
   "cell_type": "code",
   "execution_count": 3,
   "metadata": {},
   "outputs": [],
   "source": [
    "headers = {\n",
    "    'Authorization': f'Token {login_response.json()[\"data\"].get(\"key\")}'\n",
    "}"
   ]
  },
  {
   "cell_type": "code",
   "execution_count": 4,
   "metadata": {},
   "outputs": [
    {
     "data": {
      "text/plain": [
       "{'status': 'success',\n",
       " 'data': [{'key': 'test',\n",
       "   'title': 'test',\n",
       "   'url': 'test',\n",
       "   'image': 'test',\n",
       "   'currency': 'test',\n",
       "   'price': 12.0,\n",
       "   'rating': 5.0,\n",
       "   'rating_qty': 5,\n",
       "   'platform': 'test'}]}"
      ]
     },
     "execution_count": 4,
     "metadata": {},
     "output_type": "execute_result"
    }
   ],
   "source": [
    "watchlist_response = requests.get(url='http://127.0.0.1:8000/api/watchlists/', headers=headers)\n",
    "watchlist_response.json()"
   ]
  },
  {
   "cell_type": "code",
   "execution_count": 7,
   "metadata": {},
   "outputs": [
    {
     "data": {
      "text/plain": [
       "{'status': 'success', 'data': {}}"
      ]
     },
     "execution_count": 7,
     "metadata": {},
     "output_type": "execute_result"
    }
   ],
   "source": [
    "item_data = {\n",
    "    'key': 'test3',\n",
    "    'title': 'test3',\n",
    "    'url': 'test3',\n",
    "    'image': 'test3',\n",
    "    'currency': 'test3',\n",
    "    'price': 12,\n",
    "    'rating': 2,\n",
    "    'rating_qty': 12,\n",
    "    # 'platform': 'test3',\n",
    "}\n",
    "watchlist_add_response = requests.post(url='http://127.0.0.1:8000/api/watchlists/add/', json=item_data, headers=headers)\n",
    "watchlist_add_response.json()"
   ]
  }
 ],
 "metadata": {
  "kernelspec": {
   "display_name": "Python 3",
   "language": "python",
   "name": "python3"
  },
  "language_info": {
   "codemirror_mode": {
    "name": "ipython",
    "version": 3
   },
   "file_extension": ".py",
   "mimetype": "text/x-python",
   "name": "python",
   "nbconvert_exporter": "python",
   "pygments_lexer": "ipython3",
   "version": "3.10.5"
  }
 },
 "nbformat": 4,
 "nbformat_minor": 2
}
