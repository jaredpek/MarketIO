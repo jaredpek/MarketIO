{
 "cells": [
  {
   "cell_type": "code",
   "execution_count": 1,
   "metadata": {},
   "outputs": [],
   "source": [
    "import requests"
   ]
  },
  {
   "cell_type": "code",
   "execution_count": 47,
   "metadata": {},
   "outputs": [
    {
     "data": {
      "text/plain": [
       "{'status': 'error',\n",
       " 'data': {'errors': {'username': 'A user with that username already exists.'}}}"
      ]
     },
     "execution_count": 47,
     "metadata": {},
     "output_type": "execute_result"
    }
   ],
   "source": [
    "register_data = {\n",
    "    'username': 'testuser3',\n",
    "    'email': 'testuser@email.com',\n",
    "    'password1': 'password2',\n",
    "    'password2': 'password2',\n",
    "}\n",
    "register_response = requests.post(url='http://127.0.0.1:8000/api/users/auth/register/', json=register_data)\n",
    "register_response.json()"
   ]
  },
  {
   "cell_type": "code",
   "execution_count": 48,
   "metadata": {},
   "outputs": [
    {
     "data": {
      "text/plain": [
       "{'status': 'success',\n",
       " 'data': {'credentials': 'user successfully logged in',\n",
       "  'key': '6df23fcabf0525b4ef048f8f66c22088ff79641f'}}"
      ]
     },
     "execution_count": 48,
     "metadata": {},
     "output_type": "execute_result"
    }
   ],
   "source": [
    "login_data = {\n",
    "    'username': 'testuser2',\n",
    "    'password': 'password1',\n",
    "}\n",
    "login_response = requests.post(url='http://127.0.0.1:8000/api/users/auth/login/', json=login_data)\n",
    "login_response.json()"
   ]
  },
  {
   "cell_type": "code",
   "execution_count": 37,
   "metadata": {},
   "outputs": [],
   "source": [
    "headers = {\n",
    "    'Authorization': f'Token {login_response.json()[\"data\"].get(\"key\")}'\n",
    "}"
   ]
  },
  {
   "cell_type": "code",
   "execution_count": 50,
   "metadata": {},
   "outputs": [
    {
     "data": {
      "text/plain": [
       "{'status': 'success',\n",
       " 'data': {'id': 7,\n",
       "  'username': 'testuser2',\n",
       "  'first_name': 'admin_first',\n",
       "  'last_name': '',\n",
       "  'email': 'testuser@email.com',\n",
       "  'mobile_number': '+6590909090',\n",
       "  'date_joined': '2023-12-07T18:54:51.784971Z'}}"
      ]
     },
     "execution_count": 50,
     "metadata": {},
     "output_type": "execute_result"
    }
   ],
   "source": [
    "profile_response = requests.get(url='http://127.0.0.1:8000/api/users/profile/', headers=headers)\n",
    "profile_response.json()"
   ]
  },
  {
   "cell_type": "code",
   "execution_count": 51,
   "metadata": {},
   "outputs": [
    {
     "data": {
      "text/plain": [
       "{'status': 'success',\n",
       " 'data': {'credentials': 'user successfully logged in',\n",
       "  'key': '6df23fcabf0525b4ef048f8f66c22088ff79641f',\n",
       "  'profile': 'profile updated successfully'}}"
      ]
     },
     "execution_count": 51,
     "metadata": {},
     "output_type": "execute_result"
    }
   ],
   "source": [
    "update_data = {\n",
    "    'first_name': 'test2_first',\n",
    "    'mobile_number': '+6590909090',\n",
    "}\n",
    "update_response = requests.post(url='http://127.0.0.1:8000/api/users/profile/', json=update_data, headers=headers)\n",
    "update_response.json()"
   ]
  }
 ],
 "metadata": {
  "kernelspec": {
   "display_name": "Python 3",
   "language": "python",
   "name": "python3"
  },
  "language_info": {
   "codemirror_mode": {
    "name": "ipython",
    "version": 3
   },
   "file_extension": ".py",
   "mimetype": "text/x-python",
   "name": "python",
   "nbconvert_exporter": "python",
   "pygments_lexer": "ipython3",
   "version": "3.10.5"
  }
 },
 "nbformat": 4,
 "nbformat_minor": 2
}
