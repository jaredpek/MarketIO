{
 "cells": [
  {
   "cell_type": "code",
   "execution_count": 1,
   "metadata": {},
   "outputs": [],
   "source": [
    "import requests"
   ]
  },
  {
   "cell_type": "code",
   "execution_count": 3,
   "metadata": {},
   "outputs": [
    {
     "data": {
      "text/plain": [
       "{'status': 'error',\n",
       " 'data': {'errors': {'username': ['A user with that username already exists.']}}}"
      ]
     },
     "execution_count": 3,
     "metadata": {},
     "output_type": "execute_result"
    }
   ],
   "source": [
    "register_data = {\n",
    "    'username': 'testuser1',\n",
    "    'email': 'testuser@email.com',\n",
    "    'password1': 'password1',\n",
    "    'password2': 'password1',\n",
    "}\n",
    "register_response = requests.post(url='http://127.0.0.1:8000/api/users/auth/register/', json=register_data)\n",
    "register_response.json()"
   ]
  },
  {
   "cell_type": "code",
   "execution_count": 3,
   "metadata": {},
   "outputs": [
    {
     "data": {
      "text/plain": [
       "{'status': 'success',\n",
       " 'data': {'credentials': 'user successfully logged in',\n",
       "  'key': '7cb1314ab6cfcb943946f70858dd184ea1983c29'}}"
      ]
     },
     "execution_count": 3,
     "metadata": {},
     "output_type": "execute_result"
    }
   ],
   "source": [
    "login_data = {\n",
    "    'username': 'admin',\n",
    "    'password': 'admin',\n",
    "}\n",
    "login_response = requests.post(url='http://127.0.0.1:8000/api/users/auth/login/', json=login_data)\n",
    "login_response.json()"
   ]
  },
  {
   "cell_type": "code",
   "execution_count": 4,
   "metadata": {},
   "outputs": [],
   "source": [
    "headers = {\n",
    "    'Authorization': f'Token {login_response.json()[\"data\"].get(\"key\")}'\n",
    "}"
   ]
  },
  {
   "cell_type": "code",
   "execution_count": 5,
   "metadata": {},
   "outputs": [
    {
     "data": {
      "text/plain": [
       "{'status': 'success',\n",
       " 'data': {'id': 1,\n",
       "  'username': 'admin',\n",
       "  'first_name': 'admin_first',\n",
       "  'last_name': '',\n",
       "  'email': 'admin@admin.com',\n",
       "  'mobile_number': '+6590909090',\n",
       "  'date_joined': '2023-12-08T17:26:09.377908Z'}}"
      ]
     },
     "execution_count": 5,
     "metadata": {},
     "output_type": "execute_result"
    }
   ],
   "source": [
    "profile_response = requests.get(url='http://127.0.0.1:8000/api/users/profile/', headers=headers)\n",
    "profile_response.json()"
   ]
  },
  {
   "cell_type": "code",
   "execution_count": 6,
   "metadata": {},
   "outputs": [
    {
     "data": {
      "text/plain": [
       "{'status': 'success', 'data': {'profile': 'profile updated successfully'}}"
      ]
     },
     "execution_count": 6,
     "metadata": {},
     "output_type": "execute_result"
    }
   ],
   "source": [
    "update_data = {\n",
    "    'first_name': 'admin_first',\n",
    "    'mobile_number': '+6590909090',\n",
    "}\n",
    "update_response = requests.post(url='http://127.0.0.1:8000/api/users/profile/', json=update_data, headers=headers)\n",
    "update_response.json()"
   ]
  }
 ],
 "metadata": {
  "kernelspec": {
   "display_name": "Python 3",
   "language": "python",
   "name": "python3"
  },
  "language_info": {
   "codemirror_mode": {
    "name": "ipython",
    "version": 3
   },
   "file_extension": ".py",
   "mimetype": "text/x-python",
   "name": "python",
   "nbconvert_exporter": "python",
   "pygments_lexer": "ipython3",
   "version": "3.10.5"
  }
 },
 "nbformat": 4,
 "nbformat_minor": 2
}
