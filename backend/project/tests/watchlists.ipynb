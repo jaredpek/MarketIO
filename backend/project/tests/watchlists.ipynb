{
 "cells": [
  {
   "cell_type": "code",
   "execution_count": 1,
   "metadata": {},
   "outputs": [],
   "source": [
    "import requests"
   ]
  },
  {
   "cell_type": "code",
   "execution_count": 7,
   "metadata": {},
   "outputs": [
    {
     "data": {
      "text/plain": [
       "{'status': 'success',\n",
       " 'data': {'login': ['this operation was completed successfully'],\n",
       "  'key': '7cb1314ab6cfcb943946f70858dd184ea1983c29'}}"
      ]
     },
     "execution_count": 7,
     "metadata": {},
     "output_type": "execute_result"
    }
   ],
   "source": [
    "login_data = {\n",
    "    'username': 'admin',\n",
    "    'password': 'admin',\n",
    "}\n",
    "login_response = requests.post(url='http://127.0.0.1:8000/api/users/auth/login/', json=login_data)\n",
    "login_response.json()"
   ]
  },
  {
   "cell_type": "code",
   "execution_count": 8,
   "metadata": {},
   "outputs": [],
   "source": [
    "headers = {\n",
    "    'Authorization': f'Token {login_response.json()[\"data\"].get(\"key\")}'\n",
    "}"
   ]
  },
  {
   "cell_type": "code",
   "execution_count": 16,
   "metadata": {},
   "outputs": [
    {
     "data": {
      "text/plain": [
       "{'status': 'success', 'data': {'items': [], 'count': 0}}"
      ]
     },
     "execution_count": 16,
     "metadata": {},
     "output_type": "execute_result"
    }
   ],
   "source": [
    "watchlist_response = requests.get(url='http://127.0.0.1:8000/api/watchlists/', headers=headers)\n",
    "watchlist_response.json()"
   ]
  },
  {
   "cell_type": "code",
   "execution_count": 12,
   "metadata": {},
   "outputs": [
    {
     "data": {
      "text/plain": [
       "{'status': 'success',\n",
       " 'data': {'create': ['this operation was completed successfully']}}"
      ]
     },
     "execution_count": 12,
     "metadata": {},
     "output_type": "execute_result"
    }
   ],
   "source": [
    "item_data = {\n",
    "    'product': 'test2',\n",
    "}\n",
    "watchlist_add_response = requests.post(url='http://127.0.0.1:8000/api/watchlists/', json=item_data, headers=headers)\n",
    "watchlist_add_response.json()"
   ]
  },
  {
   "cell_type": "code",
   "execution_count": 18,
   "metadata": {},
   "outputs": [
    {
     "data": {
      "text/plain": [
       "{'status': 'error',\n",
       " 'data': {'errors': {'remove': ['this object does not exist']}}}"
      ]
     },
     "execution_count": 18,
     "metadata": {},
     "output_type": "execute_result"
    }
   ],
   "source": [
    "watchlist_remove_response = requests.delete(url='http://127.0.0.1:8000/api/watchlists/?id=1', headers=headers)\n",
    "watchlist_remove_response.json()"
   ]
  }
 ],
 "metadata": {
  "kernelspec": {
   "display_name": "Python 3",
   "language": "python",
   "name": "python3"
  },
  "language_info": {
   "codemirror_mode": {
    "name": "ipython",
    "version": 3
   },
   "file_extension": ".py",
   "mimetype": "text/x-python",
   "name": "python",
   "nbconvert_exporter": "python",
   "pygments_lexer": "ipython3",
   "version": "3.10.5"
  }
 },
 "nbformat": 4,
 "nbformat_minor": 2
}
