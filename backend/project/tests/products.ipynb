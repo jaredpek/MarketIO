{
 "cells": [
  {
   "cell_type": "code",
   "execution_count": 1,
   "metadata": {},
   "outputs": [],
   "source": [
    "import requests"
   ]
  },
  {
   "cell_type": "code",
   "execution_count": 2,
   "metadata": {},
   "outputs": [
    {
     "data": {
      "text/plain": [
       "{'status': 'success',\n",
       " 'data': {'login': ['this operation was completed successfully'],\n",
       "  'key': '7cb1314ab6cfcb943946f70858dd184ea1983c29'}}"
      ]
     },
     "execution_count": 2,
     "metadata": {},
     "output_type": "execute_result"
    }
   ],
   "source": [
    "login_data = {\n",
    "    'username': 'admin',\n",
    "    'password': 'admin',\n",
    "}\n",
    "login_response = requests.post(url='http://127.0.0.1:8000/api/users/auth/login/', json=login_data)\n",
    "login_response.json()"
   ]
  },
  {
   "cell_type": "code",
   "execution_count": 3,
   "metadata": {},
   "outputs": [],
   "source": [
    "headers = {\n",
    "    'Authorization': f'Token {login_response.json()[\"data\"].get(\"key\")}'\n",
    "}"
   ]
  },
  {
   "cell_type": "code",
   "execution_count": 9,
   "metadata": {},
   "outputs": [
    {
     "data": {
      "text/plain": [
       "{'status': 'success',\n",
       " 'data': {'products': [{'key': 'test2',\n",
       "    'title': 'test2',\n",
       "    'url': 'test2',\n",
       "    'image': 'test2',\n",
       "    'currency': 'te',\n",
       "    'price': 12.0,\n",
       "    'rating': 2.0,\n",
       "    'rating_qty': 12,\n",
       "    'platform': 'test2'},\n",
       "   {'key': 'test1',\n",
       "    'title': 'test1',\n",
       "    'url': 'test1',\n",
       "    'image': 'test1',\n",
       "    'currency': 'te',\n",
       "    'price': 11.0,\n",
       "    'rating': 1.0,\n",
       "    'rating_qty': 11,\n",
       "    'platform': 'test1'}],\n",
       "  'count': 2}}"
      ]
     },
     "execution_count": 9,
     "metadata": {},
     "output_type": "execute_result"
    }
   ],
   "source": [
    "product_response = requests.get(url='http://127.0.0.1:8000/api/products/', headers=headers)\n",
    "product_response.json()"
   ]
  },
  {
   "cell_type": "code",
   "execution_count": 12,
   "metadata": {},
   "outputs": [
    {
     "data": {
      "text/plain": [
       "{'status': 'error',\n",
       " 'data': {'errors': {'key': ['product with this key already exists.'],\n",
       "   'url': ['product with this url already exists.']}}}"
      ]
     },
     "execution_count": 12,
     "metadata": {},
     "output_type": "execute_result"
    }
   ],
   "source": [
    "item_data = {\n",
    "    'key': 'test1',\n",
    "    'title': 'test1',\n",
    "    'url': 'test1',\n",
    "    'image': 'test1',\n",
    "    'currency': 'te',\n",
    "    'price': 11,\n",
    "    'rating': 1,\n",
    "    'rating_qty': 11,\n",
    "    'platform': 'test1',\n",
    "}\n",
    "product_add_response = requests.post(url='http://127.0.0.1:8000/api/products/', json=item_data, headers=headers)\n",
    "product_add_response.json()"
   ]
  },
  {
   "cell_type": "code",
   "execution_count": 14,
   "metadata": {},
   "outputs": [
    {
     "data": {
      "text/plain": [
       "{'status': 'error',\n",
       " 'data': {'errors': {'delete': ['this object does not exist']}}}"
      ]
     },
     "execution_count": 14,
     "metadata": {},
     "output_type": "execute_result"
    }
   ],
   "source": [
    "product_delete_response = requests.delete(url='http://127.0.0.1:8000/api/products/?id=1', json=item_data, headers=headers)\n",
    "product_delete_response.json()"
   ]
  }
 ],
 "metadata": {
  "kernelspec": {
   "display_name": "Python 3",
   "language": "python",
   "name": "python3"
  },
  "language_info": {
   "codemirror_mode": {
    "name": "ipython",
    "version": 3
   },
   "file_extension": ".py",
   "mimetype": "text/x-python",
   "name": "python",
   "nbconvert_exporter": "python",
   "pygments_lexer": "ipython3",
   "version": "3.10.5"
  }
 },
 "nbformat": 4,
 "nbformat_minor": 2
}
