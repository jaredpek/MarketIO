{
 "cells": [
  {
   "cell_type": "code",
   "execution_count": null,
   "metadata": {},
   "outputs": [],
   "source": [
    "import requests"
   ]
  },
  {
   "cell_type": "code",
   "execution_count": null,
   "metadata": {},
   "outputs": [],
   "source": [
    "login_data = {\n",
    "    'username': 'admin',\n",
    "    'password': 'admin',\n",
    "}\n",
    "login_response = requests.post(url='http://127.0.0.1:8000/api/users/auth/login/', json=login_data)\n",
    "login_response.json()"
   ]
  },
  {
   "cell_type": "code",
   "execution_count": null,
   "metadata": {},
   "outputs": [],
   "source": [
    "headers = {\n",
    "    'Authorization': f'Token {login_response.json()[\"data\"].get(\"key\")}'\n",
    "}"
   ]
  },
  {
   "cell_type": "code",
   "execution_count": null,
   "metadata": {},
   "outputs": [],
   "source": [
    "product_response = requests.get(url='http://127.0.0.1:8000/api/products/', headers=headers)\n",
    "product_response.json()"
   ]
  },
  {
   "cell_type": "code",
   "execution_count": null,
   "metadata": {},
   "outputs": [],
   "source": [
    "item_data = {\n",
    "    'key': 'test2',\n",
    "    'title': 'test2',\n",
    "    'url': 'test2',\n",
    "    'image': 'test2',\n",
    "    'currency': 'te',\n",
    "    'price': 11,\n",
    "    'rating': 1,\n",
    "    'rating_qty': 11,\n",
    "    'platform': 'test2',\n",
    "}\n",
    "product_add_response = requests.post(url='http://127.0.0.1:8000/api/products/', json=item_data, headers=headers)\n",
    "product_add_response.json()"
   ]
  },
  {
   "cell_type": "code",
   "execution_count": null,
   "metadata": {},
   "outputs": [],
   "source": [
    "product_delete_response = requests.delete(url='http://127.0.0.1:8000/api/products/?id=1', json=item_data, headers=headers)\n",
    "product_delete_response.json()"
   ]
  }
 ],
 "metadata": {
  "kernelspec": {
   "display_name": "Python 3",
   "language": "python",
   "name": "python3"
  },
  "language_info": {
   "codemirror_mode": {
    "name": "ipython",
    "version": 3
   },
   "file_extension": ".py",
   "mimetype": "text/x-python",
   "name": "python",
   "nbconvert_exporter": "python",
   "pygments_lexer": "ipython3",
   "version": "3.10.5"
  }
 },
 "nbformat": 4,
 "nbformat_minor": 2
}
